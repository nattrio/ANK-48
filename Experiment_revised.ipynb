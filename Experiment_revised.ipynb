{
  "nbformat": 4,
  "nbformat_minor": 0,
  "metadata": {
    "colab": {
      "name": "Experiment_revised.ipynb",
      "provenance": [],
      "collapsed_sections": [],
      "toc_visible": true,
      "include_colab_link": true
    },
    "kernelspec": {
      "display_name": "Python 3",
      "name": "python3"
    },
    "language_info": {
      "name": "python"
    }
  },
  "cells": [
    {
      "cell_type": "markdown",
      "metadata": {
        "id": "view-in-github",
        "colab_type": "text"
      },
      "source": [
        "<a href=\"https://colab.research.google.com/github/nattrio/ANK-Corp/blob/master/Experiment_revised.ipynb\" target=\"_parent\"><img src=\"https://colab.research.google.com/assets/colab-badge.svg\" alt=\"Open In Colab\"/></a>"
      ]
    },
    {
      "cell_type": "markdown",
      "metadata": {
        "id": "x-7fa9yZr2FX"
      },
      "source": [
        "# Experiment"
      ]
    },
    {
      "cell_type": "markdown",
      "metadata": {
        "id": "mss5ymBhr8pg"
      },
      "source": [
        "## Import Library"
      ]
    },
    {
      "cell_type": "code",
      "metadata": {
        "colab": {
          "base_uri": "https://localhost:8080/"
        },
        "id": "JvpilAKesheK",
        "outputId": "1e533dbd-6b0a-4bed-f412-dfc072572243"
      },
      "source": [
        "import warnings\n",
        "warnings.filterwarnings('ignore')\n",
        "\n",
        "# File\n",
        "import os\n",
        "from google.colab import drive\n",
        "drive.mount('/content/drive')\n",
        "\n",
        "# Basic\n",
        "import numpy as np\n",
        "import pandas as pd\n",
        "import matplotlib.pyplot as plt\n",
        "import seaborn as sns\n",
        "import time\n",
        "\n",
        "# Modelling\n",
        "from sklearn.tree import DecisionTreeClassifier\n",
        "from sklearn.neighbors import KNeighborsClassifier\n",
        "from sklearn.linear_model import LogisticRegression\n",
        "from sklearn.ensemble import RandomForestClassifier\n",
        "from sklearn.neural_network import MLPClassifier\n",
        "from sklearn.linear_model import LinearRegression\n",
        "\n",
        "from sklearn.naive_bayes import GaussianNB\n",
        "from sklearn.svm import SVC\n",
        "\n",
        "# Evaluation\n",
        "from sklearn.model_selection import train_test_split, KFold, StratifiedKFold, cross_val_score\n",
        "from sklearn.metrics import accuracy_score, classification_report, confusion_matrix, plot_confusion_matrix\n",
        "\n",
        "! pip install -q scikit-plot\n",
        "import scikitplot as skplt\n",
        "\n",
        "# Implementation\n",
        "import pickle"
      ],
      "execution_count": 35,
      "outputs": [
        {
          "output_type": "stream",
          "text": [
            "Drive already mounted at /content/drive; to attempt to forcibly remount, call drive.mount(\"/content/drive\", force_remount=True).\n"
          ],
          "name": "stdout"
        }
      ]
    },
    {
      "cell_type": "code",
      "metadata": {
        "id": "Ipqc-ilhsshg"
      },
      "source": [
        "# ติดตั้งภาษาไทย\n",
        "\n",
        "!wget -q https://github.com/Phonbopit/sarabun-webfont/raw/master/fonts/thsarabunnew-webfont.ttf\n",
        "\n",
        "# !pip install -U --pre matplotlib  \n",
        "import matplotlib as mpl\n",
        "mpl.font_manager.fontManager.addfont('thsarabunnew-webfont.ttf')\n",
        "mpl.rc('font', family='TH Sarabun New')"
      ],
      "execution_count": 36,
      "outputs": []
    },
    {
      "cell_type": "markdown",
      "metadata": {
        "id": "pUPORfCosP32"
      },
      "source": [
        "## Import Dataset"
      ]
    },
    {
      "cell_type": "code",
      "metadata": {
        "id": "Tvaqt7TbrN19"
      },
      "source": [
        "dataset = pd.read_excel('/content/drive/Shared drives/D-Day_Project/วิเคราะห์ข้อมูล/Colab/Regression/BSCIT50-59 GRADES-BLINDED.xlsx')"
      ],
      "execution_count": 37,
      "outputs": []
    },
    {
      "cell_type": "code",
      "metadata": {
        "colab": {
          "base_uri": "https://localhost:8080/"
        },
        "id": "5NQOvuIntP2q",
        "outputId": "0b09ac44-0210-4187-bad2-23f50a074987"
      },
      "source": [
        "dataset.shape"
      ],
      "execution_count": 38,
      "outputs": [
        {
          "output_type": "execute_result",
          "data": {
            "text/plain": [
              "(599, 13)"
            ]
          },
          "metadata": {
            "tags": []
          },
          "execution_count": 38
        }
      ]
    },
    {
      "cell_type": "code",
      "metadata": {
        "colab": {
          "base_uri": "https://localhost:8080/"
        },
        "id": "nygcfhUN2Wvx",
        "outputId": "be43d257-5911-4547-98d0-09c21a52b788"
      },
      "source": [
        "dataset.info()"
      ],
      "execution_count": 39,
      "outputs": [
        {
          "output_type": "stream",
          "text": [
            "<class 'pandas.core.frame.DataFrame'>\n",
            "RangeIndex: 599 entries, 0 to 598\n",
            "Data columns (total 13 columns):\n",
            " #   Column                                   Non-Null Count  Dtype  \n",
            "---  ------                                   --------------  -----  \n",
            " 0   Yr                                       599 non-null    int64  \n",
            " 1   Program                                  599 non-null    object \n",
            " 2   โครงการ                                  339 non-null    object \n",
            " 3   School GPAX                              599 non-null    float64\n",
            " 4   คณิตศาสตร์                               238 non-null    float64\n",
            " 5   วิทยาศาสตร์                              238 non-null    float64\n",
            " 6   ภาษาต่างประเทศ                           309 non-null    float64\n",
            " 7   คะแนนสอบสัมภาษณ์                         71 non-null     float64\n",
            " 8   SIT GPAX in 1/59                         599 non-null    float64\n",
            " 9   Predicted GPAX using all students model  599 non-null    float64\n",
            " 10  สถานศึกษา                                599 non-null    object \n",
            " 11  จังหวัดสถานศึกษา                         599 non-null    object \n",
            " 12  เขตสถานศึกษา                             313 non-null    object \n",
            "dtypes: float64(7), int64(1), object(5)\n",
            "memory usage: 61.0+ KB\n"
          ],
          "name": "stdout"
        }
      ]
    },
    {
      "cell_type": "markdown",
      "metadata": {
        "id": "FjNu6leo2gxM"
      },
      "source": [
        "## Exploratory Data Analysis"
      ]
    },
    {
      "cell_type": "code",
      "metadata": {
        "colab": {
          "base_uri": "https://localhost:8080/"
        },
        "id": "IYuy3eR4jVHp",
        "outputId": "8a91602e-cadd-4bd6-d353-9304d2bb9814"
      },
      "source": [
        "print(dataset['School GPAX'].min())\n",
        "print(dataset['SIT GPAX in 1/59'].min())"
      ],
      "execution_count": 40,
      "outputs": [
        {
          "output_type": "stream",
          "text": [
            "1.97\n",
            "1.18\n"
          ],
          "name": "stdout"
        }
      ]
    },
    {
      "cell_type": "code",
      "metadata": {
        "id": "_rmKShLRb_tb"
      },
      "source": [
        "sch_bins = list(np.arange(1.8, 4.1, 0.1))\n",
        "sit_bins = list(np.arange(1.1, 4.1, 0.1))"
      ],
      "execution_count": 41,
      "outputs": []
    },
    {
      "cell_type": "code",
      "metadata": {
        "colab": {
          "base_uri": "https://localhost:8080/",
          "height": 281
        },
        "id": "Guba42c22jEe",
        "outputId": "70358e9f-4a04-4e44-eaff-f808bed5cf79"
      },
      "source": [
        "dataset['School GPAX'].plot.hist(bins=sch_bins)"
      ],
      "execution_count": 42,
      "outputs": [
        {
          "output_type": "execute_result",
          "data": {
            "text/plain": [
              "<matplotlib.axes._subplots.AxesSubplot at 0x7ff35fe8b650>"
            ]
          },
          "metadata": {
            "tags": []
          },
          "execution_count": 42
        },
        {
          "output_type": "display_data",
          "data": {
            "image/png": "[encoded data removed]",
            "text/plain": [
              "<Figure size 432x288 with 1 Axes>"
            ]
          },
          "metadata": {
            "tags": [],
            "needs_background": "light"
          }
        }
      ]
    },
    {
      "cell_type": "code",
      "metadata": {
        "colab": {
          "base_uri": "https://localhost:8080/",
          "height": 281
        },
        "id": "b9pB-d8p2xex",
        "outputId": "5b9beacd-3524-4d13-852e-3fba05524bb6"
      },
      "source": [
        "dataset['SIT GPAX in 1/59'].plot.hist(bins=sit_bins)"
      ],
      "execution_count": 43,
      "outputs": [
        {
          "output_type": "execute_result",
          "data": {
            "text/plain": [
              "<matplotlib.axes._subplots.AxesSubplot at 0x7ff35fe9a5d0>"
            ]
          },
          "metadata": {
            "tags": []
          },
          "execution_count": 43
        },
        {
          "output_type": "display_data",
          "data": {
            "image/png": "[encoded data removed]",
            "text/plain": [
              "<Figure size 432x288 with 1 Axes>"
            ]
          },
          "metadata": {
            "tags": [],
            "needs_background": "light"
          }
        }
      ]
    },
    {
      "cell_type": "markdown",
      "metadata": {
        "id": "jyauZmbt0Ots"
      },
      "source": [
        "## Data Preprocessing"
      ]
    },
    {
      "cell_type": "markdown",
      "metadata": {
        "id": "PRMc6Eb9DFQ1"
      },
      "source": [
        "### Define function"
      ]
    },
    {
      "cell_type": "code",
      "metadata": {
        "id": "NnezG1Hi3d6_"
      },
      "source": [
        "def inputClass(score):\n",
        "  if score >= 3.5:\n",
        "    return 5\n",
        "  elif score >= 3:\n",
        "    return 4\n",
        "  elif score >= 2.5:\n",
        "    return 3\n",
        "  elif score >= 2:\n",
        "    return 2\n",
        "  else:\n",
        "    return 1\n",
        "\n",
        "def outputClass(score):\n",
        "  if score >= 3.5:\n",
        "    return 5\n",
        "  elif score >= 3:\n",
        "    return 4\n",
        "  elif score >= 2.5:\n",
        "    return 3\n",
        "  elif score >= 2:\n",
        "    return 2\n",
        "  else:\n",
        "    return 1"
      ],
      "execution_count": 44,
      "outputs": []
    },
    {
      "cell_type": "markdown",
      "metadata": {
        "id": "Lqky-kIQDQsV"
      },
      "source": [
        "### Drop rows"
      ]
    },
    {
      "cell_type": "code",
      "metadata": {
        "colab": {
          "base_uri": "https://localhost:8080/"
        },
        "id": "dBPCMs9cDaBh",
        "outputId": "e935fd18-224b-49ce-a5c4-84d539963c3e"
      },
      "source": [
        "df = pd.DataFrame.copy(dataset)\n",
        "df.shape"
      ],
      "execution_count": 45,
      "outputs": [
        {
          "output_type": "execute_result",
          "data": {
            "text/plain": [
              "(599, 13)"
            ]
          },
          "metadata": {
            "tags": []
          },
          "execution_count": 45
        }
      ]
    },
    {
      "cell_type": "code",
      "metadata": {
        "colab": {
          "base_uri": "https://localhost:8080/"
        },
        "id": "7K3FJ9U7DYJ-",
        "outputId": "bf7477d2-1f2e-4d81-8066-e1277385a3a2"
      },
      "source": [
        "# Drop null subject\n",
        "\n",
        "df.dropna(subset=[\"ภาษาต่างประเทศ\", \"คณิตศาสตร์\", \"วิทยาศาสตร์\"], inplace=True)\n",
        "print(len(df))"
      ],
      "execution_count": 46,
      "outputs": [
        {
          "output_type": "stream",
          "text": [
            "238\n"
          ],
          "name": "stdout"
        }
      ]
    },
    {
      "cell_type": "code",
      "metadata": {
        "colab": {
          "base_uri": "https://localhost:8080/"
        },
        "id": "tlPEUyM049M4",
        "outputId": "463d5d92-45fb-4723-e533-5bcdfe06df9d"
      },
      "source": [
        "# Drop Yr <= 51\n",
        "\n",
        "print(\"Before:\\t\",df['Yr'].unique())\n",
        "# df.drop(df[df['Yr'] <= 51].index, axis=0, inplace=True)\n",
        "print(\"After:\\t\",df['Yr'].unique())\n",
        "print(len(df))"
      ],
      "execution_count": 47,
      "outputs": [
        {
          "output_type": "stream",
          "text": [
            "Before:\t [59 58 57]\n",
            "After:\t [59 58 57]\n",
            "238\n"
          ],
          "name": "stdout"
        }
      ]
    },
    {
      "cell_type": "code",
      "metadata": {
        "colab": {
          "base_uri": "https://localhost:8080/"
        },
        "id": "mjna0yb3biLz",
        "outputId": "7531f068-841b-4f1f-ed88-46b80b42a5c7"
      },
      "source": [
        "# หลังจาก drop แล้ว ให้เรียง index ใหม่\n",
        "\n",
        "df.index = range(len(df))\n",
        "df.shape"
      ],
      "execution_count": 48,
      "outputs": [
        {
          "output_type": "execute_result",
          "data": {
            "text/plain": [
              "(238, 13)"
            ]
          },
          "metadata": {
            "tags": []
          },
          "execution_count": 48
        }
      ]
    },
    {
      "cell_type": "code",
      "metadata": {
        "id": "nzCkw9dD4kUK"
      },
      "source": [
        "# School GPAX to class\n",
        "\n",
        "df[\"School_class\"] = df[\"School GPAX\"] # สร้าง column ใหม่ชื่อ School_class โดย copy จาก School GPAX"
      ],
      "execution_count": 49,
      "outputs": []
    },
    {
      "cell_type": "code",
      "metadata": {
        "id": "93Egz6K1464C"
      },
      "source": [
        "for i in range(len(df)):\n",
        "  df[\"School_class\"][i] = inputClass(df[\"School GPAX\"][i])\n",
        "df[\"School_class\"] = pd.to_numeric(df[\"School_class\"])"
      ],
      "execution_count": 50,
      "outputs": []
    },
    {
      "cell_type": "code",
      "metadata": {
        "id": "N_NR55YZ6X1S"
      },
      "source": [
        "# School SIT to class\n",
        "\n",
        "df[\"SIT_class\"] = df[\"SIT GPAX in 1/59\"]\n",
        "\n",
        "for i in range(len(df)):\n",
        "  df[\"SIT_class\"][i] = outputClass(df[\"SIT GPAX in 1/59\"][i])\n",
        "df[\"SIT_class\"] = pd.to_numeric(df[\"SIT_class\"])"
      ],
      "execution_count": 51,
      "outputs": []
    },
    {
      "cell_type": "code",
      "metadata": {
        "id": "SYpx99bzZDCv"
      },
      "source": [
        "# Subject to class\n",
        "\n",
        "df[\"math_class\"] = df[\"คณิตศาสตร์\"]\n",
        "df[\"sci_class\"] = df[\"วิทยาศาสตร์\"]\n",
        "df[\"eng_class\"] = df[\"ภาษาต่างประเทศ\"]\n",
        "\n",
        "for i in range(len(df)):\n",
        "  df[\"math_class\"][i] = inputClass(df[\"คณิตศาสตร์\"][i])\n",
        "df[\"math_class\"] = pd.to_numeric(df[\"math_class\"])\n",
        "\n",
        "for i in range(len(df)):\n",
        "  df[\"sci_class\"][i] = inputClass(df[\"วิทยาศาสตร์\"][i])\n",
        "df[\"sci_class\"] = pd.to_numeric(df[\"sci_class\"])\n",
        "\n",
        "for i in range(len(df)):\n",
        "  df[\"eng_class\"][i] = inputClass(df[\"ภาษาต่างประเทศ\"][i])\n",
        "df[\"eng_class\"] = pd.to_numeric(df[\"eng_class\"])"
      ],
      "execution_count": 52,
      "outputs": []
    },
    {
      "cell_type": "code",
      "metadata": {
        "colab": {
          "base_uri": "https://localhost:8080/",
          "height": 366
        },
        "id": "KQZ8dE916e2r",
        "outputId": "e17a451f-fa46-4499-ae08-ee046ce580a9"
      },
      "source": [
        "df.head()"
      ],
      "execution_count": 53,
      "outputs": [
        {
          "output_type": "execute_result",
          "data": {
            "text/html": [
              "<div>\n",
              "<style scoped>\n",
              "    .dataframe tbody tr th:only-of-type {\n",
              "        vertical-align: middle;\n",
              "    }\n",
              "\n",
              "    .dataframe tbody tr th {\n",
              "        vertical-align: top;\n",
              "    }\n",
              "\n",
              "    .dataframe thead th {\n",
              "        text-align: right;\n",
              "    }\n",
              "</style>\n",
              "<table border=\"1\" class=\"dataframe\">\n",
              "  <thead>\n",
              "    <tr style=\"text-align: right;\">\n",
              "      <th></th>\n",
              "      <th>Yr</th>\n",
              "      <th>Program</th>\n",
              "      <th>โครงการ</th>\n",
              "      <th>School GPAX</th>\n",
              "      <th>คณิตศาสตร์</th>\n",
              "      <th>วิทยาศาสตร์</th>\n",
              "      <th>ภาษาต่างประเทศ</th>\n",
              "      <th>คะแนนสอบสัมภาษณ์</th>\n",
              "      <th>SIT GPAX in 1/59</th>\n",
              "      <th>Predicted GPAX using all students model</th>\n",
              "      <th>สถานศึกษา</th>\n",
              "      <th>จังหวัดสถานศึกษา</th>\n",
              "      <th>เขตสถานศึกษา</th>\n",
              "      <th>School_class</th>\n",
              "      <th>SIT_class</th>\n",
              "      <th>math_class</th>\n",
              "      <th>sci_class</th>\n",
              "      <th>eng_class</th>\n",
              "    </tr>\n",
              "  </thead>\n",
              "  <tbody>\n",
              "    <tr>\n",
              "      <th>0</th>\n",
              "      <td>59</td>\n",
              "      <td>BScIT</td>\n",
              "      <td>เรียนดี</td>\n",
              "      <td>3.64</td>\n",
              "      <td>3.67</td>\n",
              "      <td>3.66</td>\n",
              "      <td>3.47</td>\n",
              "      <td>NaN</td>\n",
              "      <td>3.06</td>\n",
              "      <td>2.89712</td>\n",
              "      <td>S002-0</td>\n",
              "      <td>กรุงเทพมหานคร</td>\n",
              "      <td>หนองแขม</td>\n",
              "      <td>5.0</td>\n",
              "      <td>4.0</td>\n",
              "      <td>5.0</td>\n",
              "      <td>5.0</td>\n",
              "      <td>4.0</td>\n",
              "    </tr>\n",
              "    <tr>\n",
              "      <th>1</th>\n",
              "      <td>59</td>\n",
              "      <td>BScIT</td>\n",
              "      <td>เรียนดี</td>\n",
              "      <td>3.40</td>\n",
              "      <td>3.45</td>\n",
              "      <td>3.41</td>\n",
              "      <td>3.30</td>\n",
              "      <td>NaN</td>\n",
              "      <td>2.25</td>\n",
              "      <td>2.79320</td>\n",
              "      <td>S002-0</td>\n",
              "      <td>กรุงเทพมหานคร</td>\n",
              "      <td>หนองแขม</td>\n",
              "      <td>4.0</td>\n",
              "      <td>2.0</td>\n",
              "      <td>4.0</td>\n",
              "      <td>4.0</td>\n",
              "      <td>4.0</td>\n",
              "    </tr>\n",
              "    <tr>\n",
              "      <th>2</th>\n",
              "      <td>58</td>\n",
              "      <td>BScIT</td>\n",
              "      <td>Clearing House</td>\n",
              "      <td>3.39</td>\n",
              "      <td>3.22</td>\n",
              "      <td>3.28</td>\n",
              "      <td>3.38</td>\n",
              "      <td>NaN</td>\n",
              "      <td>2.16</td>\n",
              "      <td>2.78887</td>\n",
              "      <td>S002-0</td>\n",
              "      <td>กรุงเทพมหานคร</td>\n",
              "      <td>หนองแขม</td>\n",
              "      <td>4.0</td>\n",
              "      <td>2.0</td>\n",
              "      <td>4.0</td>\n",
              "      <td>4.0</td>\n",
              "      <td>4.0</td>\n",
              "    </tr>\n",
              "    <tr>\n",
              "      <th>3</th>\n",
              "      <td>58</td>\n",
              "      <td>BScIT</td>\n",
              "      <td>เรียนดี</td>\n",
              "      <td>3.30</td>\n",
              "      <td>3.30</td>\n",
              "      <td>3.14</td>\n",
              "      <td>3.27</td>\n",
              "      <td>NaN</td>\n",
              "      <td>1.95</td>\n",
              "      <td>2.74990</td>\n",
              "      <td>S002-0</td>\n",
              "      <td>กรุงเทพมหานคร</td>\n",
              "      <td>หนองแขม</td>\n",
              "      <td>4.0</td>\n",
              "      <td>1.0</td>\n",
              "      <td>4.0</td>\n",
              "      <td>4.0</td>\n",
              "      <td>4.0</td>\n",
              "    </tr>\n",
              "    <tr>\n",
              "      <th>4</th>\n",
              "      <td>58</td>\n",
              "      <td>BScIT</td>\n",
              "      <td>GAT/PAT</td>\n",
              "      <td>3.48</td>\n",
              "      <td>2.54</td>\n",
              "      <td>3.81</td>\n",
              "      <td>3.17</td>\n",
              "      <td>NaN</td>\n",
              "      <td>2.99</td>\n",
              "      <td>2.82784</td>\n",
              "      <td>S004-0</td>\n",
              "      <td>กรุงเทพมหานคร</td>\n",
              "      <td>บางรัก</td>\n",
              "      <td>4.0</td>\n",
              "      <td>3.0</td>\n",
              "      <td>3.0</td>\n",
              "      <td>5.0</td>\n",
              "      <td>4.0</td>\n",
              "    </tr>\n",
              "  </tbody>\n",
              "</table>\n",
              "</div>"
            ],
            "text/plain": [
              "   Yr Program         โครงการ  ...  math_class  sci_class  eng_class\n",
              "0  59   BScIT         เรียนดี  ...         5.0        5.0        4.0\n",
              "1  59   BScIT         เรียนดี  ...         4.0        4.0        4.0\n",
              "2  58   BScIT  Clearing House  ...         4.0        4.0        4.0\n",
              "3  58   BScIT         เรียนดี  ...         4.0        4.0        4.0\n",
              "4  58   BScIT         GAT/PAT  ...         3.0        5.0        4.0\n",
              "\n",
              "[5 rows x 18 columns]"
            ]
          },
          "metadata": {
            "tags": []
          },
          "execution_count": 53
        }
      ]
    },
    {
      "cell_type": "markdown",
      "metadata": {
        "id": "Kk1dl6pT7qMY"
      },
      "source": [
        "### Splitting Data"
      ]
    },
    {
      "cell_type": "code",
      "metadata": {
        "id": "azHovUxg7ux8"
      },
      "source": [
        "# X = np.array(df[['School_class', \n",
        "#                  \"math_class\", \n",
        "#                  \"eng_class\", \n",
        "#                  \"sci_class\"\n",
        "#                  ]]) \n",
        "X = np.array(df[['School GPAX', \n",
        "                 \"คณิตศาสตร์\", \n",
        "                 \"วิทยาศาสตร์\", \n",
        "                 \"ภาษาต่างประเทศ\"\n",
        "                 ]])\n",
        "\n",
        "# X = np.array(df[['School GPAX']]) # .reshape(1,-1)\n",
        "y = np.array(df['SIT GPAX in 1/59'])\n",
        "y_class = np.array(df['SIT_class'])"
      ],
      "execution_count": 54,
      "outputs": []
    },
    {
      "cell_type": "code",
      "metadata": {
        "id": "PuoPSjwr8sTO"
      },
      "source": [
        "X_train, X_test, y_train, y_test = train_test_split(X, y_class , train_size=0.8) # train size 0.8 คือ แบ่งไว้เทรน 80%"
      ],
      "execution_count": 55,
      "outputs": []
    },
    {
      "cell_type": "code",
      "metadata": {
        "colab": {
          "base_uri": "https://localhost:8080/"
        },
        "id": "pPtoiQ769BDe",
        "outputId": "3183fc87-1fd5-4c96-e446-6c1c75ae4f2b"
      },
      "source": [
        "print(\"All:\", len(X))\n",
        "print(\"Train: {}, Test: {}\".format(len(X_train),len(X_test)))"
      ],
      "execution_count": 56,
      "outputs": [
        {
          "output_type": "stream",
          "text": [
            "All: 238\n",
            "Train: 190, Test: 48\n"
          ],
          "name": "stdout"
        }
      ]
    },
    {
      "cell_type": "markdown",
      "metadata": {
        "id": "k6T_IB7r1Zu5"
      },
      "source": [
        "## Evaluation"
      ]
    },
    {
      "cell_type": "markdown",
      "metadata": {
        "id": "KFHOWw2KgjX_"
      },
      "source": [
        "### Acceptance"
      ]
    },
    {
      "cell_type": "code",
      "metadata": {
        "id": "EP7OgkzlgaPV"
      },
      "source": [
        "def acceptance(matrix, n):\n",
        "  i = n-1\n",
        "  if n == 1:\n",
        "    score = matrix[i][i] + matrix[i+1][i]\n",
        "  elif n == len(matrix):\n",
        "    score = matrix[i-1][i] + matrix[i][i]\n",
        "  else:\n",
        "    score = matrix[i-1][i] + matrix[i][i] + matrix[i+1][i]\n",
        "  return score"
      ],
      "execution_count": 57,
      "outputs": []
    },
    {
      "cell_type": "code",
      "metadata": {
        "id": "16Krsq3bhEi6"
      },
      "source": [
        "def nan_to_zero(n):\n",
        "  if np.isnan(n):\n",
        "    return 0\n",
        "  else:\n",
        "    return n"
      ],
      "execution_count": 58,
      "outputs": []
    },
    {
      "cell_type": "code",
      "metadata": {
        "id": "Cny2kwXNhFAi"
      },
      "source": [
        "def eval_predict(array):\n",
        "  temp = np.asmatrix(array).transpose()\n",
        "  matrix = np.array(temp)\n",
        "  for i in range(len(matrix)):\n",
        "    class_num = i+1\n",
        "    print(\"Predict {} ({})\".format(class_num, matrix[i].sum()))\n",
        "    for n in range(len(matrix[i])):\n",
        "      pred_num = n+1\n",
        "      score = matrix[i][n]\n",
        "      # print(\" - Actual Class {}: {}\".format(pred_num, score))\n",
        "      if i==n:\n",
        "        print(\" - Accuracy:\\t{}\\t({:.0%})\".format(score, nan_to_zero(score/matrix[i].sum())))\n",
        "    acp = acceptance(array, class_num)\n",
        "    print(\" - Acceptable:\\t{}\\t({:.0%})\".format(nan_to_zero(acp), nan_to_zero(acp/matrix[i].sum())))\n",
        "    print(\" - Missed:\\t{}\\t({:.0%})\".format(matrix[i].sum() - acp, 1 - nan_to_zero(acp/matrix[i].sum())))"
      ],
      "execution_count": 59,
      "outputs": []
    },
    {
      "cell_type": "markdown",
      "metadata": {
        "id": "kQjiXbM669a3"
      },
      "source": [
        "### K-fold"
      ]
    },
    {
      "cell_type": "code",
      "metadata": {
        "id": "Gm1HoAFaUXYG"
      },
      "source": [
        "def kfold_eval(n_splits,model):\n",
        "  model_score = []\n",
        "  pred_all = np.array(())\n",
        "  cv = KFold(n_splits)\n",
        "\n",
        "  for train_index, test_index in cv.split(X):\n",
        "    X_train_k, y_train_k = X[train_index], y_class[train_index]\n",
        "    X_test_k, y_test_k   = X[test_index], y_class[test_index]\n",
        "\n",
        "    print(\"test index: {}-{}\".format(test_index[0], test_index[-1]))\n",
        "\n",
        "    model.fit(X_train_k,y_train_k)\n",
        "    pred = model.predict(X_test_k)\n",
        "    accur = accuracy_score(y_test_k,pred)\n",
        "    \n",
        "    model_score.append(accur)\n",
        "    pred_all = np.concatenate((pred_all, pred), axis=None)\n",
        "  show_score(model_score)\n",
        "  # pred_all = pred_all.astype(int)\n",
        "  eval_predict(confusion_matrix(y_class, pred_all))\n",
        "  skplt.metrics.plot_confusion_matrix(y_class, pred_all)"
      ],
      "execution_count": 60,
      "outputs": []
    },
    {
      "cell_type": "code",
      "metadata": {
        "id": "J7Kv2jz0VYL8"
      },
      "source": [
        "def show_score(score):\n",
        "  print(\"--------------------\")\n",
        "  print(\"Mean:\\t\",np.mean(score))\n",
        "  print(\"Max:\\t\",np.max(score))\n",
        "  print(\"Min:\\t\",np.min(score))\n",
        "  print(\"S.D.:\\t\",np.std(score))\n",
        "  print(score,\"\\n\")"
      ],
      "execution_count": 61,
      "outputs": []
    },
    {
      "cell_type": "markdown",
      "metadata": {
        "id": "8sw7kGc_0T5H"
      },
      "source": [
        "## Modelling"
      ]
    },
    {
      "cell_type": "markdown",
      "metadata": {
        "id": "hZlzCKaIjUzP"
      },
      "source": [
        "### KNeighborsClassifier"
      ]
    },
    {
      "cell_type": "code",
      "metadata": {
        "colab": {
          "base_uri": "https://localhost:8080/",
          "height": 830
        },
        "id": "c14GEyFSasOF",
        "outputId": "bb5787cd-3082-4c7d-866f-b1da9fe7ad1f"
      },
      "source": [
        "KNN = KNeighborsClassifier()\n",
        "kfold_eval(5,KNN)"
      ],
      "execution_count": 62,
      "outputs": [
        {
          "output_type": "stream",
          "text": [
            "test index: 0-47\n",
            "test index: 48-95\n",
            "test index: 96-143\n",
            "test index: 144-190\n",
            "test index: 191-237\n",
            "--------------------\n",
            "Mean:\t 0.2854609929078014\n",
            "Max:\t 0.3617021276595745\n",
            "Min:\t 0.14893617021276595\n",
            "S.D.:\t 0.07441582512762376\n",
            "[0.3333333333333333, 0.2708333333333333, 0.3125, 0.14893617021276595, 0.3617021276595745] \n",
            "\n",
            "Predict 1 (8)\n",
            " - Accuracy:\t0\t(0%)\n",
            " - Acceptable:\t3\t(38%)\n",
            " - Missed:\t5\t(62%)\n",
            "Predict 2 (83)\n",
            " - Accuracy:\t25\t(30%)\n",
            " - Acceptable:\t61\t(73%)\n",
            " - Missed:\t22\t(27%)\n",
            "Predict 3 (93)\n",
            " - Accuracy:\t25\t(27%)\n",
            " - Acceptable:\t77\t(83%)\n",
            " - Missed:\t16\t(17%)\n",
            "Predict 4 (48)\n",
            " - Accuracy:\t18\t(38%)\n",
            " - Acceptable:\t40\t(83%)\n",
            " - Missed:\t8\t(17%)\n",
            "Predict 5 (6)\n",
            " - Accuracy:\t0\t(0%)\n",
            " - Acceptable:\t4\t(67%)\n",
            " - Missed:\t2\t(33%)\n"
          ],
          "name": "stdout"
        },
        {
          "output_type": "display_data",
          "data": {
            "image/png": "[encoded data removed]",
            "text/plain": [
              "<Figure size 432x288 with 2 Axes>"
            ]
          },
          "metadata": {
            "tags": [],
            "needs_background": "light"
          }
        }
      ]
    },
    {
      "cell_type": "markdown",
      "metadata": {
        "id": "ASWolDvztcVL"
      },
      "source": [
        "### RandomForestClassifier"
      ]
    },
    {
      "cell_type": "code",
      "metadata": {
        "colab": {
          "base_uri": "https://localhost:8080/",
          "height": 830
        },
        "id": "t43F12EftdqC",
        "outputId": "cde2e655-f569-4efc-bc68-2a6ca68cdb87"
      },
      "source": [
        "RFC = RandomForestClassifier()\n",
        "kfold_eval(5,RFC)"
      ],
      "execution_count": 63,
      "outputs": [
        {
          "output_type": "stream",
          "text": [
            "test index: 0-47\n",
            "test index: 48-95\n",
            "test index: 96-143\n",
            "test index: 144-190\n",
            "test index: 191-237\n",
            "--------------------\n",
            "Mean:\t 0.29406028368794324\n",
            "Max:\t 0.3541666666666667\n",
            "Min:\t 0.25\n",
            "S.D.:\t 0.039217677853546316\n",
            "[0.2916666666666667, 0.25, 0.3541666666666667, 0.2553191489361702, 0.3191489361702128] \n",
            "\n",
            "Predict 1 (7)\n",
            " - Accuracy:\t0\t(0%)\n",
            " - Acceptable:\t3\t(43%)\n",
            " - Missed:\t4\t(57%)\n",
            "Predict 2 (66)\n",
            " - Accuracy:\t21\t(32%)\n",
            " - Acceptable:\t50\t(76%)\n",
            " - Missed:\t16\t(24%)\n",
            "Predict 3 (80)\n",
            " - Accuracy:\t28\t(35%)\n",
            " - Acceptable:\t68\t(85%)\n",
            " - Missed:\t12\t(15%)\n",
            "Predict 4 (70)\n",
            " - Accuracy:\t20\t(29%)\n",
            " - Acceptable:\t51\t(73%)\n",
            " - Missed:\t19\t(27%)\n",
            "Predict 5 (15)\n",
            " - Accuracy:\t1\t(7%)\n",
            " - Acceptable:\t11\t(73%)\n",
            " - Missed:\t4\t(27%)\n"
          ],
          "name": "stdout"
        },
        {
          "output_type": "display_data",
          "data": {
            "image/png": "[encoded data removed]",
            "text/plain": [
              "<Figure size 432x288 with 2 Axes>"
            ]
          },
          "metadata": {
            "tags": [],
            "needs_background": "light"
          }
        }
      ]
    },
    {
      "cell_type": "markdown",
      "metadata": {
        "id": "jjc7jK5wt_Uq"
      },
      "source": [
        "### LogisticRegression"
      ]
    },
    {
      "cell_type": "code",
      "metadata": {
        "colab": {
          "base_uri": "https://localhost:8080/",
          "height": 830
        },
        "id": "ajtZy0OttrEu",
        "outputId": "38b851e6-2ab6-411a-fd08-11dc181dd533"
      },
      "source": [
        "LG  = LogisticRegression()\n",
        "kfold_eval(5,LG)"
      ],
      "execution_count": 64,
      "outputs": [
        {
          "output_type": "stream",
          "text": [
            "test index: 0-47\n",
            "test index: 48-95\n",
            "test index: 96-143\n",
            "test index: 144-190\n",
            "test index: 191-237\n",
            "--------------------\n",
            "Mean:\t 0.3234929078014185\n",
            "Max:\t 0.3617021276595745\n",
            "Min:\t 0.2765957446808511\n",
            "S.D.:\t 0.03379322853255052\n",
            "[0.3333333333333333, 0.3541666666666667, 0.2916666666666667, 0.3617021276595745, 0.2765957446808511] \n",
            "\n",
            "Predict 1 (0)\n",
            " - Accuracy:\t0\t(0%)\n",
            " - Acceptable:\t0\t(0%)\n",
            " - Missed:\t0\t(100%)\n",
            "Predict 2 (58)\n",
            " - Accuracy:\t21\t(36%)\n",
            " - Acceptable:\t44\t(76%)\n",
            " - Missed:\t14\t(24%)\n",
            "Predict 3 (87)\n",
            " - Accuracy:\t25\t(29%)\n",
            " - Acceptable:\t76\t(87%)\n",
            " - Missed:\t11\t(13%)\n",
            "Predict 4 (93)\n",
            " - Accuracy:\t31\t(33%)\n",
            " - Acceptable:\t80\t(86%)\n",
            " - Missed:\t13\t(14%)\n",
            "Predict 5 (0)\n",
            " - Accuracy:\t0\t(0%)\n",
            " - Acceptable:\t0\t(0%)\n",
            " - Missed:\t0\t(100%)\n"
          ],
          "name": "stdout"
        },
        {
          "output_type": "display_data",
          "data": {
            "image/png": "[encoded data removed]",
            "text/plain": [
              "<Figure size 432x288 with 2 Axes>"
            ]
          },
          "metadata": {
            "tags": [],
            "needs_background": "light"
          }
        }
      ]
    },
    {
      "cell_type": "markdown",
      "metadata": {
        "id": "6kBJjDlvuEBK"
      },
      "source": [
        "### DecisionTreeClassifier"
      ]
    },
    {
      "cell_type": "code",
      "metadata": {
        "colab": {
          "base_uri": "https://localhost:8080/",
          "height": 830
        },
        "id": "K4wbl4NGtwzX",
        "outputId": "070818e2-3756-4fa2-889f-d98367c420c5"
      },
      "source": [
        "DTC = DecisionTreeClassifier()\n",
        "kfold_eval(5,DTC)"
      ],
      "execution_count": 65,
      "outputs": [
        {
          "output_type": "stream",
          "text": [
            "test index: 0-47\n",
            "test index: 48-95\n",
            "test index: 96-143\n",
            "test index: 144-190\n",
            "test index: 191-237\n",
            "--------------------\n",
            "Mean:\t 0.27296099290780146\n",
            "Max:\t 0.3125\n",
            "Min:\t 0.23404255319148937\n",
            "S.D.:\t 0.024900776384564737\n",
            "[0.2708333333333333, 0.2708333333333333, 0.3125, 0.23404255319148937, 0.2765957446808511] \n",
            "\n",
            "Predict 1 (12)\n",
            " - Accuracy:\t0\t(0%)\n",
            " - Acceptable:\t5\t(42%)\n",
            " - Missed:\t7\t(58%)\n",
            "Predict 2 (65)\n",
            " - Accuracy:\t18\t(28%)\n",
            " - Acceptable:\t49\t(75%)\n",
            " - Missed:\t16\t(25%)\n",
            "Predict 3 (85)\n",
            " - Accuracy:\t27\t(32%)\n",
            " - Acceptable:\t69\t(81%)\n",
            " - Missed:\t16\t(19%)\n",
            "Predict 4 (49)\n",
            " - Accuracy:\t18\t(37%)\n",
            " - Acceptable:\t34\t(69%)\n",
            " - Missed:\t15\t(31%)\n",
            "Predict 5 (27)\n",
            " - Accuracy:\t2\t(7%)\n",
            " - Acceptable:\t13\t(48%)\n",
            " - Missed:\t14\t(52%)\n"
          ],
          "name": "stdout"
        },
        {
          "output_type": "display_data",
          "data": {
            "image/png": "[encoded data removed]",
            "text/plain": [
              "<Figure size 432x288 with 2 Axes>"
            ]
          },
          "metadata": {
            "tags": [],
            "needs_background": "light"
          }
        }
      ]
    },
    {
      "cell_type": "markdown",
      "metadata": {
        "id": "AupbHyjKuIM-"
      },
      "source": [
        "### MLPClassifier"
      ]
    },
    {
      "cell_type": "code",
      "metadata": {
        "colab": {
          "base_uri": "https://localhost:8080/",
          "height": 830
        },
        "id": "XHDqUsfBt3Ce",
        "outputId": "86e737f0-b86e-4ccd-9d95-9cde8f326597"
      },
      "source": [
        "MLP = MLPClassifier()\n",
        "kfold_eval(5,MLP)"
      ],
      "execution_count": 66,
      "outputs": [
        {
          "output_type": "stream",
          "text": [
            "test index: 0-47\n",
            "test index: 48-95\n",
            "test index: 96-143\n",
            "test index: 144-190\n",
            "test index: 191-237\n",
            "--------------------\n",
            "Mean:\t 0.2517730496453901\n",
            "Max:\t 0.3125\n",
            "Min:\t 0.2127659574468085\n",
            "S.D.:\t 0.03767574047648815\n",
            "[0.25, 0.2708333333333333, 0.3125, 0.2127659574468085, 0.2127659574468085] \n",
            "\n",
            "Predict 1 (0)\n",
            " - Accuracy:\t0\t(0%)\n",
            " - Acceptable:\t0\t(0%)\n",
            " - Missed:\t0\t(100%)\n",
            "Predict 2 (5)\n",
            " - Accuracy:\t4\t(80%)\n",
            " - Acceptable:\t5\t(100%)\n",
            " - Missed:\t0\t(0%)\n",
            "Predict 3 (133)\n",
            " - Accuracy:\t34\t(26%)\n",
            " - Acceptable:\t111\t(83%)\n",
            " - Missed:\t22\t(17%)\n",
            "Predict 4 (100)\n",
            " - Accuracy:\t22\t(22%)\n",
            " - Acceptable:\t75\t(75%)\n",
            " - Missed:\t25\t(25%)\n",
            "Predict 5 (0)\n",
            " - Accuracy:\t0\t(0%)\n",
            " - Acceptable:\t0\t(0%)\n",
            " - Missed:\t0\t(100%)\n"
          ],
          "name": "stdout"
        },
        {
          "output_type": "display_data",
          "data": {
            "image/png": "[encoded data removed]",
            "text/plain": [
              "<Figure size 432x288 with 2 Axes>"
            ]
          },
          "metadata": {
            "tags": [],
            "needs_background": "light"
          }
        }
      ]
    },
    {
      "cell_type": "markdown",
      "metadata": {
        "id": "5-Ep4IvJoCDU"
      },
      "source": [
        "### LinearRegression"
      ]
    },
    {
      "cell_type": "code",
      "metadata": {
        "colab": {
          "base_uri": "https://localhost:8080/",
          "height": 847
        },
        "id": "nmrw5FK5LXan",
        "outputId": "40d9b739-eae5-4fb8-e1ba-5f3151be1419"
      },
      "source": [
        "LR  = LinearRegression()\n",
        "lr_score = []\n",
        "pred_all = np.array(())\n",
        "cv = KFold(5)\n",
        "\n",
        "for train_index, test_index in cv.split(X):\n",
        "    X_train_k, y_train_k = X[train_index], y_class[train_index]\n",
        "    X_test_k, y_test_k   = X[test_index], y_class[test_index]\n",
        "\n",
        "    y_train_c, y_test_c = y[train_index], y[test_index]\n",
        "\n",
        "    print(\"test index: {}-{}\".format(test_index[0], test_index[-1]))\n",
        "\n",
        "    LR.fit(X_train_k,y_train_c)\n",
        "    pred = LR.predict(X_test_k)\n",
        "    for i in range(len(pred)):\n",
        "      pred[i] = outputClass(pred[i])\n",
        "\n",
        "    accur = accuracy_score(y_test_k,pred)\n",
        "    lr_score.append(accur)\n",
        "    pred_all = np.concatenate((pred_all, pred), axis=None)\n",
        "show_score(lr_score)\n",
        "eval_predict(confusion_matrix(y_class, pred_all))\n",
        "skplt.metrics.plot_confusion_matrix(y_class, pred_all)"
      ],
      "execution_count": 67,
      "outputs": [
        {
          "output_type": "stream",
          "text": [
            "test index: 0-47\n",
            "test index: 48-95\n",
            "test index: 96-143\n",
            "test index: 144-190\n",
            "test index: 191-237\n",
            "--------------------\n",
            "Mean:\t 0.3405141843971631\n",
            "Max:\t 0.5319148936170213\n",
            "Min:\t 0.19148936170212766\n",
            "S.D.:\t 0.1092982644332393\n",
            "[0.3333333333333333, 0.3333333333333333, 0.3125, 0.5319148936170213, 0.19148936170212766] \n",
            "\n",
            "Predict 1 (0)\n",
            " - Accuracy:\t0\t(0%)\n",
            " - Acceptable:\t0\t(0%)\n",
            " - Missed:\t0\t(100%)\n",
            "Predict 2 (19)\n",
            " - Accuracy:\t7\t(37%)\n",
            " - Acceptable:\t16\t(84%)\n",
            " - Missed:\t3\t(16%)\n",
            "Predict 3 (179)\n",
            " - Accuracy:\t57\t(32%)\n",
            " - Acceptable:\t154\t(86%)\n",
            " - Missed:\t25\t(14%)\n",
            "Predict 4 (40)\n",
            " - Accuracy:\t17\t(42%)\n",
            " - Acceptable:\t36\t(90%)\n",
            " - Missed:\t4\t(10%)\n",
            "Predict 5 (0)\n",
            " - Accuracy:\t0\t(0%)\n",
            " - Acceptable:\t0\t(0%)\n",
            " - Missed:\t0\t(100%)\n"
          ],
          "name": "stdout"
        },
        {
          "output_type": "execute_result",
          "data": {
            "text/plain": [
              "<matplotlib.axes._subplots.AxesSubplot at 0x7ff35f2aedd0>"
            ]
          },
          "metadata": {
            "tags": []
          },
          "execution_count": 67
        },
        {
          "output_type": "display_data",
          "data": {
            "image/png": "[encoded data removed]",
            "text/plain": [
              "<Figure size 432x288 with 2 Axes>"
            ]
          },
          "metadata": {
            "tags": [],
            "needs_background": "light"
          }
        }
      ]
    },
    {
      "cell_type": "markdown",
      "metadata": {
        "id": "pNj0yHMenvqf"
      },
      "source": [
        "### LinearRegression 100"
      ]
    },
    {
      "cell_type": "code",
      "metadata": {
        "colab": {
          "base_uri": "https://localhost:8080/",
          "height": 847
        },
        "id": "ZYTbLRVaQwLI",
        "outputId": "4f9df218-6e39-41f7-ee3d-21cb2530c9ed"
      },
      "source": [
        "LR  = LinearRegression()\n",
        "lr100_score = []\n",
        "pred_all = np.array(())\n",
        "cv = KFold(5)\n",
        "\n",
        "for train_index, test_index in cv.split(X):\n",
        "    X_train_k, y_train_k = X[train_index], y_class[train_index]\n",
        "    X_test_k, y_test_k   = X[test_index], y_class[test_index]\n",
        "\n",
        "    print(\"test index: {}-{}\".format(test_index[0], test_index[-1]))\n",
        "\n",
        "    LR.fit(X,y)\n",
        "    pred = LR.predict(X_test_k)\n",
        "    for i in range(len(pred)):\n",
        "      pred[i] = outputClass(pred[i])\n",
        "\n",
        "    accur = accuracy_score(y_test_k,pred)\n",
        "    lr100_score.append(accur)\n",
        "    pred_all = np.concatenate((pred_all, pred), axis=None)\n",
        "show_score(lr100_score)\n",
        "eval_predict(confusion_matrix(y_class, pred_all))\n",
        "skplt.metrics.plot_confusion_matrix(y_class, pred_all)"
      ],
      "execution_count": 68,
      "outputs": [
        {
          "output_type": "stream",
          "text": [
            "test index: 0-47\n",
            "test index: 48-95\n",
            "test index: 96-143\n",
            "test index: 144-190\n",
            "test index: 191-237\n",
            "--------------------\n",
            "Mean:\t 0.3320035460992908\n",
            "Max:\t 0.5319148936170213\n",
            "Min:\t 0.14893617021276595\n",
            "S.D.:\t 0.1215418742318513\n",
            "[0.3333333333333333, 0.3333333333333333, 0.3125, 0.5319148936170213, 0.14893617021276595] \n",
            "\n",
            "Predict 1 (0)\n",
            " - Accuracy:\t0\t(0%)\n",
            " - Acceptable:\t0\t(0%)\n",
            " - Missed:\t0\t(100%)\n",
            "Predict 2 (21)\n",
            " - Accuracy:\t8\t(38%)\n",
            " - Acceptable:\t18\t(86%)\n",
            " - Missed:\t3\t(14%)\n",
            "Predict 3 (177)\n",
            " - Accuracy:\t54\t(31%)\n",
            " - Acceptable:\t153\t(86%)\n",
            " - Missed:\t24\t(14%)\n",
            "Predict 4 (40)\n",
            " - Accuracy:\t17\t(42%)\n",
            " - Acceptable:\t40\t(100%)\n",
            " - Missed:\t0\t(0%)\n",
            "Predict 5 (0)\n",
            " - Accuracy:\t0\t(0%)\n",
            " - Acceptable:\t0\t(0%)\n",
            " - Missed:\t0\t(100%)\n"
          ],
          "name": "stdout"
        },
        {
          "output_type": "execute_result",
          "data": {
            "text/plain": [
              "<matplotlib.axes._subplots.AxesSubplot at 0x7ff35f208510>"
            ]
          },
          "metadata": {
            "tags": []
          },
          "execution_count": 68
        },
        {
          "output_type": "display_data",
          "data": {
            "image/png": "[encoded data removed]",
            "text/plain": [
              "<Figure size 432x288 with 2 Axes>"
            ]
          },
          "metadata": {
            "tags": [],
            "needs_background": "light"
          }
        }
      ]
    },
    {
      "cell_type": "markdown",
      "metadata": {
        "id": "JR0DJpdcg-ZD"
      },
      "source": [
        "## Summary"
      ]
    }
  ]
}